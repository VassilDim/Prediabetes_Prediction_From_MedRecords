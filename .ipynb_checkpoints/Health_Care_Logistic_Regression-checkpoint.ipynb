{
 "cells": [
  {
   "cell_type": "code",
   "execution_count": 1,
   "id": "1ab81d4c",
   "metadata": {},
   "outputs": [],
   "source": [
    "import numpy as np\n",
    "import pandas as pd\n",
    "import matplotlib.pyplot as plt\n",
    "from sklearn.linear_model import LogisticRegression\n",
    "from sklearn.metrics import accuracy_score, classification_report, confusion_matrix\n",
    "from sklearn.preprocessing import MinMaxScaler\n",
    "from sklearn.decomposition import PCA\n",
    "from sklearn.pipeline import Pipeline\n",
    "from sklearn.model_selection import cross_val_score, GridSearchCV, train_test_split\n",
    "import seaborn as sns"
   ]
  },
  {
   "cell_type": "code",
   "execution_count": null,
   "id": "c2e95edf",
   "metadata": {},
   "outputs": [],
   "source": [
    "X_train = pd.read_csv ('X_train.csv', index_col = 0)\n",
    "y_train = pd.read_csv ('y_train.csv', index_col = 0)\n",
    "y_train = y_train['prediabetes_bin_y'].squeeze()"
   ]
  },
  {
   "cell_type": "code",
   "execution_count": null,
   "id": "59773568",
   "metadata": {},
   "outputs": [],
   "source": [
    "X_train_33, _, y_train_33, _ = train_test_split (X_train, y_train, test_size=0.67, stratify=y_train)"
   ]
  },
  {
   "cell_type": "code",
   "execution_count": null,
   "id": "4be86c26",
   "metadata": {},
   "outputs": [],
   "source": [
    "del X_train, y_train"
   ]
  },
  {
   "cell_type": "code",
   "execution_count": null,
   "id": "545137c7",
   "metadata": {},
   "outputs": [],
   "source": [
    "# Define pre-processing and  hyperparameter options\n",
    "scaling_options = [MinMaxScaler()] # Scaling\n",
    "pca_options = [None, 5] # Dimensionality reduction options\n",
    "penalty_options = ['l1', 'l2'] # Lasso or Ridge regression\n",
    "C_options = [0.01, 0.1, 0, 1, 10] # Coefficient penalties"
   ]
  },
  {
   "cell_type": "code",
   "execution_count": null,
   "id": "61d98804",
   "metadata": {},
   "outputs": [],
   "source": [
    "# Initialize a pipeline without any parameters:\n",
    "pipe = Pipeline (\n",
    "    [\n",
    "        ('scaling', None),\n",
    "        ('pca', None),\n",
    "        ('logreg', LogisticRegression(max_iter = 500))\n",
    "    ]\n",
    ")"
   ]
  },
  {
   "cell_type": "code",
   "execution_count": null,
   "id": "d738df8d",
   "metadata": {},
   "outputs": [],
   "source": [
    "# Define parameters for grid search\n",
    "param_grid = [\n",
    "    {\n",
    "        'scaling' : scaling_options,\n",
    "        'pca' : pca_options,\n",
    "        'logreg__penalty' : penalty_options,\n",
    "        'logreg__C' : C_options\n",
    "    }\n",
    "]"
   ]
  },
  {
   "cell_type": "code",
   "execution_count": null,
   "id": "8dc05195",
   "metadata": {},
   "outputs": [],
   "source": [
    "# Instantiate the grid search with the pipeline and hyperparameters:\n",
    "grid_search = GridSearchCV (pipe, # pipeline initiated\n",
    "                            param_grid = param_grid, # grid parameter options\n",
    "                            cv = 10) # Use cross-validation of 10-fold"
   ]
  },
  {
   "cell_type": "code",
   "execution_count": null,
   "id": "3fd222ab",
   "metadata": {},
   "outputs": [],
   "source": [
    "# Fit the grid search for best logistic regression parameter on train data\n",
    "grid_search.fit (X_train_33, y_train_33)"
   ]
  },
  {
   "cell_type": "code",
   "execution_count": null,
   "id": "81550527",
   "metadata": {},
   "outputs": [],
   "source": [
    "# Extract the best model:\n",
    "best_model = grid_search.best_estimator_\n",
    "# Extract the best hyperparameters:\n",
    "best_params = grid_search.best_params_\n",
    "print(\"Best Hyperparameters:\\n\", best_params)"
   ]
  },
  {
   "cell_type": "code",
   "execution_count": null,
   "id": "c9422dd8",
   "metadata": {},
   "outputs": [],
   "source": [
    "# Clean up:\n",
    "del X_train_33, y_train_33, best_model"
   ]
  },
  {
   "cell_type": "code",
   "execution_count": null,
   "id": "ea6ad08d",
   "metadata": {},
   "outputs": [],
   "source": [
    "# Load training data again:\n",
    "X_train = pd.read_csv ('X_train.csv', index_col = 0)\n",
    "y_train = pd.read_csv ('y_train.csv', index_col = 0)\n",
    "y_train = y_train['prediabetes_bin_y'].squeeze()"
   ]
  },
  {
   "cell_type": "code",
   "execution_count": null,
   "id": "aad977f1",
   "metadata": {},
   "outputs": [],
   "source": [
    "## Train a logistic regression with the best parameters discovered:\n",
    "# 1. Scale data using\n",
    "scaler = MinMaxScaler()\n",
    "X_train_scaled = scaler.fit_transform (X_train)\n",
    "# 2. Instantiate Logistic Regression\n",
    "logreg = LogisticRegression (penalty = 'l2',\n",
    "                             C = 10,\n",
    "                             max_iter = 1000) # Increase the maximum number of iterations\n",
    "# 3. Fit Logistic Regression on the scaled train dataset\n",
    "logreg.fit (X_train_scaled, y_train)"
   ]
  },
  {
   "cell_type": "code",
   "execution_count": null,
   "id": "530e07c1",
   "metadata": {},
   "outputs": [],
   "source": [
    "# Predict rating for train:\n",
    "lg_best_train = logreg.predict (X_train_scaled)\n",
    "# Training test performance:\n",
    "report_train = classification_report (y_train, lg_best_train)\n",
    "print(report_train)"
   ]
  },
  {
   "cell_type": "code",
   "execution_count": null,
   "id": "52ebdef8",
   "metadata": {},
   "outputs": [],
   "source": [
    "del X_train, y_train, X_train_scaled, lg_best_train"
   ]
  },
  {
   "cell_type": "code",
   "execution_count": null,
   "id": "ceefb326",
   "metadata": {},
   "outputs": [],
   "source": [
    "# Load test data:\n",
    "X_test = pd.read_csv ('X_test.csv', index_col = 0)\n",
    "y_test = pd.read_csv ('y_test.csv', index_col = 0)\n",
    "y_test = y_test['prediabetes_bin_y'].squeeze()"
   ]
  },
  {
   "cell_type": "code",
   "execution_count": null,
   "id": "8e86c6be",
   "metadata": {
    "scrolled": true
   },
   "outputs": [],
   "source": [
    "# Scale test set:\n",
    "X_test_scaled = scaler.transform (X_test)\n",
    "# Predict rating for test:\n",
    "lg_best_test = logreg.predict (X_test_scaled)\n",
    "\n",
    "# Obtain calssification reports:\n",
    "report_test = classification_report (y_test, lg_best_test)\n",
    "\n",
    "# Print results:\n",
    "print (\"Full report for train dataset:\\n\", report_train, \"----------\\n\")\n",
    "print (\"Full report for test dataset:\\n\", report_test, \"----------\\n\")"
   ]
  },
  {
   "cell_type": "code",
   "execution_count": null,
   "id": "6dca460f",
   "metadata": {},
   "outputs": [],
   "source": [
    "X_test"
   ]
  },
  {
   "cell_type": "code",
   "execution_count": null,
   "id": "1f85323f",
   "metadata": {},
   "outputs": [],
   "source": []
  }
 ],
 "metadata": {
  "kernelspec": {
   "display_name": "Python 3 (ipykernel)",
   "language": "python",
   "name": "python3"
  },
  "language_info": {
   "codemirror_mode": {
    "name": "ipython",
    "version": 3
   },
   "file_extension": ".py",
   "mimetype": "text/x-python",
   "name": "python",
   "nbconvert_exporter": "python",
   "pygments_lexer": "ipython3",
   "version": "3.9.16"
  }
 },
 "nbformat": 4,
 "nbformat_minor": 5
}
